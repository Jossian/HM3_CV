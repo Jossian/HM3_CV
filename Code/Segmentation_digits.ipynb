{
 "cells": [
  {
   "cell_type": "code",
   "execution_count": 13,
   "metadata": {},
   "outputs": [],
   "source": [
    "import cv2\n",
    "import numpy as np\n",
    "from skimage.measure import label, regionprops\n",
    "import pandas as pd\n",
    "from skimage import morphology\n",
    "from matplotlib import pyplot as plt\n",
    "\n",
    "# Cargar la imagen\n",
    "img = cv2.imread('id.jpg', cv2.IMREAD_GRAYSCALE)"
   ]
  },
  {
   "cell_type": "code",
   "execution_count": null,
   "metadata": {},
   "outputs": [
    {
     "ename": "error",
     "evalue": "OpenCV(4.10.0) :-1: error: (-5:Bad argument) in function 'imread'\n> Overload resolution failed:\n>  - Expected 'filename' to be a str or path-like object\n>  - Expected 'filename' to be a str or path-like object\n>  - Expected 'filename' to be a str or path-like object\n",
     "output_type": "error",
     "traceback": [
      "\u001b[1;31m---------------------------------------------------------------------------\u001b[0m",
      "\u001b[1;31merror\u001b[0m                                     Traceback (most recent call last)",
      "Cell \u001b[1;32mIn[1], line 44\u001b[0m\n\u001b[0;32m     42\u001b[0m \u001b[38;5;66;03m# Suponiendo que tienes una lista de archivos de imagen\u001b[39;00m\n\u001b[0;32m     43\u001b[0m image_files \u001b[38;5;241m=\u001b[39m [\u001b[38;5;124m\"\u001b[39m\u001b[38;5;124mimagen1.png\u001b[39m\u001b[38;5;124m\"\u001b[39m, \u001b[38;5;124m\"\u001b[39m\u001b[38;5;124mimagen2.png\u001b[39m\u001b[38;5;124m\"\u001b[39m, \u001b[38;5;241m.\u001b[39m\u001b[38;5;241m.\u001b[39m\u001b[38;5;241m.\u001b[39m, \u001b[38;5;124m\"\u001b[39m\u001b[38;5;124mimagen10.png\u001b[39m\u001b[38;5;124m\"\u001b[39m]\n\u001b[1;32m---> 44\u001b[0m digit_images \u001b[38;5;241m=\u001b[39m \u001b[43mload_and_segment_images\u001b[49m\u001b[43m(\u001b[49m\u001b[43mimage_files\u001b[49m\u001b[43m)\u001b[49m\n",
      "Cell \u001b[1;32mIn[1], line 11\u001b[0m, in \u001b[0;36mload_and_segment_images\u001b[1;34m(image_files)\u001b[0m\n\u001b[0;32m      8\u001b[0m \u001b[38;5;66;03m# Primera pasada: calcular las áreas de todos los componentes\u001b[39;00m\n\u001b[0;32m      9\u001b[0m \u001b[38;5;28;01mfor\u001b[39;00m file \u001b[38;5;129;01min\u001b[39;00m image_files:\n\u001b[0;32m     10\u001b[0m     \u001b[38;5;66;03m# Leer la imagen en escala de grises\u001b[39;00m\n\u001b[1;32m---> 11\u001b[0m     img \u001b[38;5;241m=\u001b[39m \u001b[43mcv2\u001b[49m\u001b[38;5;241;43m.\u001b[39;49m\u001b[43mimread\u001b[49m\u001b[43m(\u001b[49m\u001b[43mfile\u001b[49m\u001b[43m,\u001b[49m\u001b[43m \u001b[49m\u001b[43mcv2\u001b[49m\u001b[38;5;241;43m.\u001b[39;49m\u001b[43mIMREAD_GRAYSCALE\u001b[49m\u001b[43m)\u001b[49m\n\u001b[0;32m     12\u001b[0m     _, thresh \u001b[38;5;241m=\u001b[39m cv2\u001b[38;5;241m.\u001b[39mthreshold(img, \u001b[38;5;241m128\u001b[39m, \u001b[38;5;241m255\u001b[39m, cv2\u001b[38;5;241m.\u001b[39mTHRESH_BINARY_INV \u001b[38;5;241m+\u001b[39m cv2\u001b[38;5;241m.\u001b[39mTHRESH_OTSU)\n\u001b[0;32m     14\u001b[0m     \u001b[38;5;66;03m# Encontrar contornos\u001b[39;00m\n",
      "\u001b[1;31merror\u001b[0m: OpenCV(4.10.0) :-1: error: (-5:Bad argument) in function 'imread'\n> Overload resolution failed:\n>  - Expected 'filename' to be a str or path-like object\n>  - Expected 'filename' to be a str or path-like object\n>  - Expected 'filename' to be a str or path-like object\n"
     ]
    }
   ],
   "source": [
    "\n",
    "\n",
    "# Verificar si la imagen se cargó correctamente\n",
    "if img is None:\n",
    "    print(\"Error: No se pudo cargar la imagen. Verifica la ruta del archivo.\")\n",
    "else:\n",
    "    # Preprocesamiento de la imagen\n",
    "    _, img_bin = cv2.threshold(img, 130, 255, cv2.THRESH_BINARY_INV)\n",
    "\n",
    "    # Aplicar morfología para eliminar ruido\n",
    "    kernel = cv2.getStructuringElement(cv2.MORPH_RECT, (3, 3))\n",
    "    img_bin = cv2.morphologyEx(img_bin, cv2.MORPH_CLOSE, kernel)\n",
    "\n",
    "    # Etiquetar componentes conectados\n",
    "    labels = label(img_bin, connectivity=2)\n",
    "    props = regionprops(labels)\n",
    "\n",
    "    # Filtrar por área: calcular el área promedio y definir umbrales\n",
    "    areas = [prop.area for prop in props]\n",
    "    area_promedio = np.mean(areas)\n",
    "    umbral_min = area_promedio * 0.5  # Puedes ajustar el factor según tu imagen\n",
    "    umbral_max = area_promedio * 3\n",
    "\n",
    "# Ordenar los componentes por la posición horizontal de su bounding box\n",
    "props_sorted = sorted(props, key=lambda prop: prop.bbox[1])  # Propiedad bbox[1] es min_col (columna izquierda)\n",
    "\n",
    "# Inicializar una lista para almacenar las características\n",
    "features_list = []\n",
    "\n",
    "# Procesar cada componente detectado (ahora ordenado de izquierda a derecha)\n",
    "for prop in props_sorted:\n",
    "    # Filtrar por área\n",
    "    if umbral_min <= prop.area <= umbral_max:\n",
    "        # Obtener el bounding box del dígito\n",
    "        min_row, min_col, max_row, max_col = prop.bbox\n",
    "        digit = img_bin[min_row:max_row, min_col:max_col]\n",
    "        cv2.rectangle(img, (min_col, min_row), (max_col, max_row), (0, 255, 0), 2)\n",
    "\n",
    "        # Calcular momentos de Hu\n",
    "        moments = cv2.moments(digit)\n",
    "        hu_moments = cv2.HuMoments(moments).flatten()\n",
    "\n",
    "        # Calcular el número de Euler\n",
    "        euler_number = prop.euler_number\n",
    "\n",
    "        # Calcular el área del dígito\n",
    "        area = prop.area\n",
    "\n",
    "        # Almacenar los features en una lista\n",
    "        features_list.append([*hu_moments, euler_number, area])\n",
    "\n",
    "# Crear un DataFrame de pandas con los features\n",
    "plt.figure(figsize=(10, 10))\n",
    "plt.imshow(cv2.cvtColor(img, cv2.COLOR_BGR2RGB))\n",
    "plt.axis('off')\n",
    "plt.show()\n",
    "columns = [f'HuMoment_{i+1}' for i in range(7)] + ['EulerNumber', 'Area']\n",
    "df = pd.DataFrame(features_list, columns=columns)\n",
    "\n",
    "# Guardar en un archivo Excel\n",
    "df.to_excel('features_numeros.xlsx', index=False)\n",
    "\n",
    "print(\"Extracción de características y guardado en Excel completados.\")"
   ]
  }
 ],
 "metadata": {
  "kernelspec": {
   "display_name": "Python 3",
   "language": "python",
   "name": "python3"
  },
  "language_info": {
   "codemirror_mode": {
    "name": "ipython",
    "version": 3
   },
   "file_extension": ".py",
   "mimetype": "text/x-python",
   "name": "python",
   "nbconvert_exporter": "python",
   "pygments_lexer": "ipython3",
   "version": "3.11.8"
  }
 },
 "nbformat": 4,
 "nbformat_minor": 2
}
